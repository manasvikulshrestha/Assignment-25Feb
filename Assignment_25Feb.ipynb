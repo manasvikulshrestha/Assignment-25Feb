{
 "cells": [
  {
   "cell_type": "markdown",
   "id": "2a15630d-64a9-4725-92a7-47c7d2c06b07",
   "metadata": {},
   "source": [
    "Consider following code to answer further questions:\n",
    "import pandas as pd\n",
    "course_name = [‘Data Science’, ‘Machine Learning’, ‘Big Data’, ‘Data Engineer’]\n",
    "duration = [2,3,6,4]\n",
    "df = pd.DataFrame(data = {‘course_name’ : course_name, ‘duration’ : duration})\n",
    "Q1. Write a code to print the data present in the second row of the dataframe, df."
   ]
  },
  {
   "cell_type": "code",
   "execution_count": 3,
   "id": "c5397fc2-39ef-443b-8b38-999c9f683d33",
   "metadata": {},
   "outputs": [
    {
     "data": {
      "text/html": [
       "<div>\n",
       "<style scoped>\n",
       "    .dataframe tbody tr th:only-of-type {\n",
       "        vertical-align: middle;\n",
       "    }\n",
       "\n",
       "    .dataframe tbody tr th {\n",
       "        vertical-align: top;\n",
       "    }\n",
       "\n",
       "    .dataframe thead th {\n",
       "        text-align: right;\n",
       "    }\n",
       "</style>\n",
       "<table border=\"1\" class=\"dataframe\">\n",
       "  <thead>\n",
       "    <tr style=\"text-align: right;\">\n",
       "      <th></th>\n",
       "      <th>course_name</th>\n",
       "      <th>duration</th>\n",
       "    </tr>\n",
       "  </thead>\n",
       "  <tbody>\n",
       "    <tr>\n",
       "      <th>1</th>\n",
       "      <td>Machine Learning</td>\n",
       "      <td>3</td>\n",
       "    </tr>\n",
       "  </tbody>\n",
       "</table>\n",
       "</div>"
      ],
      "text/plain": [
       "        course_name  duration\n",
       "1  Machine Learning         3"
      ]
     },
     "execution_count": 3,
     "metadata": {},
     "output_type": "execute_result"
    }
   ],
   "source": [
    "import pandas as pd\n",
    "course_name = ['Data Science', 'Machine Learning', 'Big Data', 'Data Engineer']\n",
    "duration = [2,3,6,4]\n",
    "df = pd.DataFrame(data = {'course_name' : course_name, 'duration' : duration})\n",
    "df.iloc[1:2]"
   ]
  },
  {
   "cell_type": "markdown",
   "id": "37d89acc-c09f-4751-b03a-1da05c6f048f",
   "metadata": {},
   "source": [
    "Q2. What is the difference between the functions loc and iloc in pandas.DataFrame?\n",
    "A2. In pandas, both 'loc' and 'iloc are used for accessing data in a DataFrame, but they have different ways of indexing.\n",
    "\n",
    "1. 'loc': This function is primarily label-based, meaning that you use row and column labels to index into the DataFrame. You specify the row and column labels explicitly. For example:\n",
    "\n",
    "df.loc['row_label', 'column_label']\n",
    "\n",
    "2. 'iloc': This function is primarily integer position-based, meaning that you use integer indices to access the DataFrame. You specify the row and column indices explicitly. For example:\n",
    "\n",
    "df.iloc[row_index, column_index]\n",
    "\n",
    "For example, consider a DataFrame `df` with row labels 'A', 'B', 'C' and column labels 'X', 'Y', 'Z'. With `loc`, you would use these labels to access data, whereas with `iloc`, you would use integer indices starting from 0."
   ]
  },
  {
   "cell_type": "markdown",
   "id": "00dc11bc-5dcf-4bfe-b30e-7b90233ed519",
   "metadata": {},
   "source": [
    "Q3. Reindex the given dataframe using a variable, reindex = [3,0,1,2] and store it in the variable, new_df\n",
    "then find the output for both new_df.loc[2] and new_df.iloc[2].\n",
    "Did you observe any difference in both the outputs? If so then explain it.\n",
    "A3. new_df.loc[2]: This will access the row with the label/index '2'. However, after reindexing, the DataFrame has been rearranged so that the label/index '2' corresponds to the row with the label/index '1' in the original DataFrame df.\n",
    "\n",
    "new_df.iloc[2]: This will access the row with the integer index '2'. After reindexing, the row with the integer index '2' corresponds to the row with the label/index '2' in the original DataFrame df.\n",
    "\n",
    "So, the output for new_df.loc[2] will be the row with the label/index '1' from the original DataFrame df, while the output for new_df.iloc[2] will be the row with the label/index '2' from the original DataFrame df."
   ]
  },
  {
   "cell_type": "code",
   "execution_count": 4,
   "id": "8bd832d0-110d-4d09-b20d-dec66963d1ad",
   "metadata": {},
   "outputs": [
    {
     "name": "stdout",
     "output_type": "stream",
     "text": [
      "Output for new_df.loc[2]:\n",
      "course_name    Big Data\n",
      "duration              6\n",
      "Name: 2, dtype: object\n",
      "\n",
      "Output for new_df.iloc[2]:\n",
      "course_name    Machine Learning\n",
      "duration                      3\n",
      "Name: 1, dtype: object\n"
     ]
    }
   ],
   "source": [
    "reindex = [3, 0, 1, 2]\n",
    "\n",
    "new_df = df.reindex(reindex)\n",
    "\n",
    "print(\"Output for new_df.loc[2]:\")\n",
    "print(new_df.loc[2])\n",
    "\n",
    "print(\"\\nOutput for new_df.iloc[2]:\")\n",
    "print(new_df.iloc[2])"
   ]
  },
  {
   "cell_type": "markdown",
   "id": "d7324414-0d20-4699-82db-d91c5a52b097",
   "metadata": {},
   "source": [
    "Consider the below code to answer further questions:\n",
    "import pandas as pd\n",
    "import numpy as np\n",
    "columns = ['column_1', 'column_2', 'column_3', 'column_4', 'column_5', 'column_6']\n",
    "indices = [1,2,3,4,5,6]\n",
    "#Creating a dataframe:\n",
    "df1 = pd.DataFrame(np.random.rand(6,6), columns = columns, index = indices)\n",
    "Q4. Write a code to find the following statistical measurements for the above dataframe df1:\n",
    "(i) mean of each and every column present in the dataframe.\n",
    "(ii) standard deviation of column, ‘column_2’"
   ]
  },
  {
   "cell_type": "code",
   "execution_count": 5,
   "id": "77389ce6-e35c-4769-8a73-4b4c24f54224",
   "metadata": {},
   "outputs": [
    {
     "name": "stdout",
     "output_type": "stream",
     "text": [
      "Mean of each column:\n",
      "column_1    0.323847\n",
      "column_2    0.557072\n",
      "column_3    0.259155\n",
      "column_4    0.606144\n",
      "column_5    0.456550\n",
      "column_6    0.338449\n",
      "dtype: float64\n",
      "\n",
      "Standard deviation of column 'column_2': 0.31280424300591775\n"
     ]
    }
   ],
   "source": [
    "import pandas as pd\n",
    "import numpy as np\n",
    "\n",
    "columns = ['column_1', 'column_2', 'column_3', 'column_4', 'column_5', 'column_6']\n",
    "indices = [1, 2, 3, 4, 5, 6]\n",
    "\n",
    "# Creating a DataFrame\n",
    "df1 = pd.DataFrame(np.random.rand(6, 6), columns=columns, index=indices)\n",
    "\n",
    "# (i) Mean of each and every column present in the dataframe\n",
    "column_means = df1.mean()\n",
    "print(\"Mean of each column:\")\n",
    "print(column_means)\n",
    "\n",
    "# (ii) Standard deviation of column 'column_2'\n",
    "std_dev_column_2 = df1['column_2'].std()\n",
    "print(\"\\nStandard deviation of column 'column_2':\", std_dev_column_2)"
   ]
  },
  {
   "cell_type": "markdown",
   "id": "6eb2467b-1e2a-4c24-a7d0-074e93dc0eb4",
   "metadata": {},
   "source": [
    "Q5. Replace the data present in the second row of column, ‘column_2’ by a string variable then find the\n",
    "mean of column, column_2.\n",
    "If you are getting errors in executing it then explain why.\n",
    "[Hint: To replace the data use df1.loc[] and equate this to string data of your choice.]\n",
    "A5. If you execute this code, you'll likely get a ValueError.\n",
    "This error occurs because Pandas tries to maintain a consistent data type within each column, and since 'column_2' originally contains numerical data, it expects any assigned values to be numerical as well.\n",
    "\n",
    "To address this issue, you could either:\n",
    "\n",
    "Ensure that the replacement data is of the same type as the original column (numerical).\n",
    "Use a different approach if you intend to work with mixed data types, such as using a different data structure that supports mixed types, or separating the data into different columns."
   ]
  },
  {
   "cell_type": "code",
   "execution_count": null,
   "id": "c1749f20-b1da-45fb-b627-73373cc7f068",
   "metadata": {},
   "outputs": [],
   "source": [
    "# Replace the data in the second row of column 'column_2' with a string\n",
    "df1.loc[2, 'column_2'] = \"string data\"\n",
    "mean_column_2 = df1['column_2'].mean() "
   ]
  },
  {
   "cell_type": "markdown",
   "id": "0b128f39-fa27-4b28-8e85-4c448c2a3af0",
   "metadata": {},
   "source": [
    "Q6. What do you understand about the windows function in pandas and list the types of windows\n",
    "functions?\n",
    "A6. In pandas, window functions allow you to perform calculations on a specified subset of data defined by a window or a window-like object. These functions are particularly useful for tasks such as rolling computations, which involve calculating statistics or aggregations over a sliding window of data points.\n",
    "\n",
    "Window functions in pandas can be applied using the `rolling()` method for Series objects or `rolling()` function for DataFrame objects. They enable you to compute statistics such as rolling mean, rolling sum, rolling standard deviation, etc., over a specified window size.\n",
    "\n",
    "Here are some common types of window functions in pandas:\n",
    "\n",
    "1. Rolling functions: These functions compute a statistic (like mean, sum, min, max, etc.) over a rolling window of data points. The rolling window can be defined by the number of periods or by a specific time frequency.\n",
    "\n",
    "2. Expanding functions: Expanding functions compute a statistic for all the data points from the beginning of the series up to the current point. This means that with each new data point, the calculation incorporates all previous data points.\n",
    "\n",
    "3. Exponential weighted functions: These functions compute a weighted average over a window of data points, where the weights decrease exponentially as you move further back in time.\n",
    "\n",
    "4. Aggregate functions: These functions aggregate the data over a window defined by the grouping of rows based on some criteria. For example, you can calculate the sum, mean, or count of values within each group.\n",
    "\n",
    "5. Transformation functions: Transformation functions compute statistics for each data point within a window. These functions return a transformed version of the data, possibly of the same size.\n",
    "\n",
    "These window functions provide powerful tools for analyzing time series data and performing various types of calculations efficiently. They can help in tasks such as trend analysis, anomaly detection, and feature engineering for machine learning models."
   ]
  },
  {
   "cell_type": "markdown",
   "id": "96e464a6-5a5c-4848-b3ea-17463253a4c8",
   "metadata": {},
   "source": [
    "Q7. Write a code to print only the current month and year at the time of answering this question.\n",
    "[Hint: Use pandas.datetime function]"
   ]
  },
  {
   "cell_type": "code",
   "execution_count": 8,
   "id": "d5626b78-c5be-4c0a-9747-e19c17f24dc1",
   "metadata": {},
   "outputs": [
    {
     "name": "stdout",
     "output_type": "stream",
     "text": [
      "Current month: 3\n",
      "Current year: 2024\n"
     ]
    }
   ],
   "source": [
    "current_datetime = pd.Timestamp.now()\n",
    "\n",
    "current_month = current_datetime.month\n",
    "current_year = current_datetime.year\n",
    "\n",
    "print(\"Current month:\", current_month)\n",
    "print(\"Current year:\", current_year)"
   ]
  },
  {
   "cell_type": "markdown",
   "id": "f94cd7b7-7564-48b2-9070-d1e0b63391a9",
   "metadata": {},
   "source": [
    "Q8. Write a Python program that takes in two dates as input (in the format YYYY-MM-DD) and\n",
    "calculates the difference between them in days, hours, and minutes using Pandas time delta. The\n",
    "program should prompt the user to enter the dates and display the result."
   ]
  },
  {
   "cell_type": "code",
   "execution_count": 9,
   "id": "bc5c5587-37c7-4f39-895a-8209ad9081ee",
   "metadata": {},
   "outputs": [
    {
     "name": "stdin",
     "output_type": "stream",
     "text": [
      "Enter the start date (YYYY-MM-DD):  2002-04-15\n",
      "Enter the end date (YYYY-MM-DD):  2002-12-23\n"
     ]
    },
    {
     "name": "stdout",
     "output_type": "stream",
     "text": [
      "Time difference:\n",
      "252 days, 0 hours, 0 minutes\n"
     ]
    }
   ],
   "source": [
    "start_date = input(\"Enter the start date (YYYY-MM-DD): \")\n",
    "end_date = input(\"Enter the end date (YYYY-MM-DD): \")\n",
    "\n",
    "time_difference = pd.to_datetime(end_date) - pd.to_datetime(start_date)\n",
    "\n",
    "days = time_difference.days\n",
    "hours = time_difference.seconds // 3600\n",
    "minutes = (time_difference.seconds % 3600) // 60\n",
    "\n",
    "print(\"Time difference:\")\n",
    "print(f\"{days} days, {hours} hours, {minutes} minutes\")"
   ]
  },
  {
   "cell_type": "markdown",
   "id": "2b31ad79-2751-4136-95e0-be73193fd98c",
   "metadata": {},
   "source": [
    "Q9. Write a Python program that reads a CSV file containing categorical data and converts a specified\n",
    "column to a categorical data type. The program should prompt the user to enter the file path, column\n",
    "name, and category order, and then display the sorted data."
   ]
  },
  {
   "cell_type": "code",
   "execution_count": 16,
   "id": "d3e5cb44-a6ff-445b-b2f0-33b0569f2a08",
   "metadata": {},
   "outputs": [],
   "source": [
    "data = {\n",
    "        'Category': ['A', 'B', 'C', 'B', 'A', 'C'],\n",
    "        'Value': [10, 20, 15, 25, 30, 35]\n",
    "    }\n",
    "\n",
    "df = pd.DataFrame(data)\n",
    "\n",
    "df.to_csv('sample_data.csv', index=False)"
   ]
  },
  {
   "cell_type": "code",
   "execution_count": 17,
   "id": "c0b3a0fd-eaa9-4bec-9735-37f8e216a9d2",
   "metadata": {},
   "outputs": [
    {
     "name": "stdin",
     "output_type": "stream",
     "text": [
      "Enter the path to the CSV file:  sample_data.csv\n",
      "Enter the column name to convert to categorical data type:  Category\n",
      "Enter the category order (comma-separated values):  A,B,C\n"
     ]
    },
    {
     "name": "stdout",
     "output_type": "stream",
     "text": [
      "Sorted Data:\n",
      "  Category  Value\n",
      "0        A     10\n",
      "4        A     30\n",
      "1        B     20\n",
      "3        B     25\n",
      "2        C     15\n",
      "5        C     35\n"
     ]
    }
   ],
   "source": [
    "file_path = input(\"Enter the path to the CSV file: \")\n",
    "\n",
    "df = pd.read_csv(file_path)\n",
    "\n",
    "column_name = input(\"Enter the column name to convert to categorical data type: \")\n",
    "\n",
    "df[column_name] = pd.Categorical(df[column_name])\n",
    "\n",
    "category_order = input(\"Enter the category order (comma-separated values): \").split(',')\n",
    "\n",
    "df_sorted = df.sort_values(by=column_name, key=lambda x: x.astype(\"category\").cat.reorder_categories(category_order))\n",
    "\n",
    "print(\"Sorted Data:\")\n",
    "print(df_sorted)"
   ]
  },
  {
   "cell_type": "markdown",
   "id": "20c2e194-e468-45a9-82a3-fe9309cd5257",
   "metadata": {},
   "source": [
    "Q10. Write a Python program that reads a CSV file containing sales data for different products and\n",
    "visualizes the data using a stacked bar chart to show the sales of each product category over time. The\n",
    "program should prompt the user to enter the file path and display the chart."
   ]
  },
  {
   "cell_type": "code",
   "execution_count": 11,
   "id": "6cb85c1c-4a2f-4efc-9036-696030ee9d73",
   "metadata": {},
   "outputs": [
    {
     "name": "stdin",
     "output_type": "stream",
     "text": [
      "Enter the path to the CSV file:  sales_data.csv\n"
     ]
    },
    {
     "data": {
      "image/png": "[encoded data removed]",
      "text/plain": [
       "<Figure size 1000x600 with 1 Axes>"
      ]
     },
     "metadata": {},
     "output_type": "display_data"
    }
   ],
   "source": [
    "# Sample sales data\n",
    "data = {\n",
    "    'Date': ['2024-01-01', '2024-01-02', '2024-01-03', '2024-01-04', '2024-01-05'],\n",
    "    'Product Category': ['Category A', 'Category B', 'Category A', 'Category B', 'Category A'],\n",
    "    'Sales': [100, 150, 200, 120, 180]\n",
    "}\n",
    "\n",
    "df = pd.DataFrame(data)\n",
    "\n",
    "df.to_csv('sales_data.csv', index=False)\n",
    "\n",
    "import matplotlib.pyplot as plt\n",
    "\n",
    "file_path = input(\"Enter the path to the CSV file: \")\n",
    "\n",
    "df = pd.read_csv(file_path)\n",
    "\n",
    "df['Date'] = pd.to_datetime(df['Date'])\n",
    "\n",
    "pivot_df = df.pivot(index='Date', columns='Product Category', values='Sales').fillna(0)\n",
    "\n",
    "pivot_df.plot(kind='bar', stacked=True, figsize=(10, 6))\n",
    "\n",
    "plt.xlabel('Date')\n",
    "plt.ylabel('Sales')\n",
    "plt.title('Sales of Product Categories Over Time')\n",
    "\n",
    "plt.show()"
   ]
  },
  {
   "cell_type": "markdown",
   "id": "c2daba61-9e4f-4bd6-9e37-e40d843f9256",
   "metadata": {},
   "source": [
    "Q11. You are given a CSV file containing student data that includes the student ID and their test score. Write\n",
    "a Python program that reads the CSV file, calculates the mean, median, and mode of the test scores, and\n",
    "displays the results in a table.\n",
    "The program should do the followingM\n",
    "I Prompt the user to enter the file path of the CSV file containing the student dataR\n",
    "I Read the CSV file into a Pandas DataFrameR\n",
    "I Calculate the mean, median, and mode of the test scores using Pandas toolsR\n",
    "I Display the mean, median, and mode in a table.\n",
    "Assume the CSV file contains the following columnsM\n",
    "I Student ID: The ID of the studentR\n",
    "I Test Score: The score of the student's test.\n",
    "Example usage of the program:\n",
    "Enter the file path of the CSV file containing the student data: student_data.csv\n",
    "+-----------+--------+\n",
    "| Statistic | Value |\n",
    "+-----------+--------+\n",
    "| Mean | 79.6 |\n",
    "| Median | 82 |\n",
    "| Mode | 85, 90 |\n",
    "+-----------+--------+\n",
    "Assume that the CSV file student_data.csv contains the following data:\n",
    "Student ID,Test Score\n",
    "1,85\n",
    "2,90\n",
    "3,80\n",
    "4,75\n",
    "5,85\n",
    "6,82\n",
    "7,78\n",
    "8,85\n",
    "9,90\n",
    "10,85\n",
    "The program should calculate the mean, median, and mode of the test scores and display the results\n",
    "in a table."
   ]
  },
  {
   "cell_type": "code",
   "execution_count": 14,
   "id": "66a97e4b-20bd-4ae7-9ff6-ff3da01c8dcc",
   "metadata": {},
   "outputs": [
    {
     "name": "stdout",
     "output_type": "stream",
     "text": [
      "CSV file 'student_data.csv' has been created.\n"
     ]
    }
   ],
   "source": [
    "data = {\n",
    "    'Student ID': [1, 2, 3, 4, 5, 6, 7, 8, 9, 10],\n",
    "    'Test Score': [85, 90, 80, 75, 85, 82, 78, 85, 90, 85]\n",
    "}\n",
    "\n",
    "df = pd.DataFrame(data)\n",
    "\n",
    "df.to_csv('student_data.csv', index=False)\n",
    "\n",
    "print(\"CSV file 'student_data.csv' has been created.\")"
   ]
  },
  {
   "cell_type": "code",
   "execution_count": 15,
   "id": "86c6246b-db91-49e6-aa48-52ff0304b165",
   "metadata": {},
   "outputs": [
    {
     "name": "stdin",
     "output_type": "stream",
     "text": [
      "Enter the file path of the CSV file containing the student data:  student_data.csv\n"
     ]
    },
    {
     "name": "stdout",
     "output_type": "stream",
     "text": [
      "+-----------+--------+\n",
      "| Statistic | Value  |\n",
      "+-----------+--------+\n",
      "| Mean      | 83.5   |\n",
      "| Median    | 85.0    |\n",
      "| Mode      | 85  |\n",
      "+-----------+--------+\n"
     ]
    }
   ],
   "source": [
    "import pandas as pd\n",
    "\n",
    "def main():\n",
    "    # Prompt the user to enter the file path\n",
    "    file_path = input(\"Enter the file path of the CSV file containing the student data: \")\n",
    "\n",
    "    # Read the CSV file into a Pandas DataFrame\n",
    "    df = pd.read_csv(file_path)\n",
    "\n",
    "    # Calculate mean, median, and mode\n",
    "    mean = df['Test Score'].mean()\n",
    "    median = df['Test Score'].median()\n",
    "    mode = df['Test Score'].mode()\n",
    "\n",
    "    # Display the results in a table\n",
    "    print(\"+-----------+--------+\")\n",
    "    print(\"| Statistic | Value  |\")\n",
    "    print(\"+-----------+--------+\")\n",
    "    print(f\"| Mean      | {mean:.1f}   |\")\n",
    "    print(f\"| Median    | {median}    |\")\n",
    "    print(f\"| Mode      | {', '.join(map(str, mode.tolist()))}  |\")\n",
    "    print(\"+-----------+--------+\")\n",
    "\n",
    "if __name__ == \"__main__\":\n",
    "    main()"
   ]
  }
 ],
 "metadata": {
  "kernelspec": {
   "display_name": "Python 3 (ipykernel)",
   "language": "python",
   "name": "python3"
  },
  "language_info": {
   "codemirror_mode": {
    "name": "ipython",
    "version": 3
   },
   "file_extension": ".py",
   "mimetype": "text/x-python",
   "name": "python",
   "nbconvert_exporter": "python",
   "pygments_lexer": "ipython3",
   "version": "3.10.8"
  }
 },
 "nbformat": 4,
 "nbformat_minor": 5
}
